{
 "cells": [
  {
   "cell_type": "markdown",
   "metadata": {},
   "source": [
    "# SVM for MNIST Digit Recognition\n",
    "\n",
    "In this demo, you will learn to:\n",
    "* Load and display images\n",
    "* Formulate image classification problems\n",
    "* Explain the limitations of linear classifiers for image classification\n",
    "* Build a simple SVM image classifier \n",
    "* Save and load results using `pickle`.\n",
    "\n",
    "For data, we will use the classic [MNIST](https://en.wikipedia.org/wiki/MNIST_database) data set used to recognize hand-written digits.  The dataset was originally produced in the 1980s and is now widely-used in machine learning classes as a simple image classification problem.  "
   ]
  },
  {
   "cell_type": "markdown",
   "metadata": {},
   "source": [
    "## Loading the Data\n",
    "\n",
    "First, we load the standard packages."
   ]
  },
  {
   "cell_type": "code",
   "execution_count": 1,
   "metadata": {},
   "outputs": [],
   "source": [
    "import numpy as np\n",
    "import matplotlib\n",
    "import matplotlib.pyplot as plt"
   ]
  },
  {
   "cell_type": "markdown",
   "metadata": {},
   "source": [
    "Since the MNIST dataset is so widely-used, it comes in as a build-in dataset in many packages. In this lab, we will download the data from the Tensorflow package -- See here for [installations instructions](https://www.tensorflow.org/install).  You can get the data from other sources as well. \n",
    "\n",
    "In the Tensorflow dataset, the training and test data are represented as arrays:\n",
    "\n",
    "     Xtr.shape = 60000 x 28 x 28\n",
    "     Xts.shape = 10000 x 28 x 28\n",
    "     \n",
    "The test data consists of `60000` images of size `28 x 28` pixels; the test data consists of `10000` images."
   ]
  },
  {
   "cell_type": "code",
   "execution_count": 2,
   "metadata": {},
   "outputs": [
    {
     "name": "stderr",
     "output_type": "stream",
     "text": [
      "2023-01-06 16:19:11.981997: I tensorflow/core/platform/cpu_feature_guard.cc:193] This TensorFlow binary is optimized with oneAPI Deep Neural Network Library (oneDNN) to use the following CPU instructions in performance-critical operations:  SSE4.1 SSE4.2 AVX AVX2 FMA\n",
      "To enable them in other operations, rebuild TensorFlow with the appropriate compiler flags.\n"
     ]
    },
    {
     "name": "stdout",
     "output_type": "stream",
     "text": [
      "Xtr shape: (60000, 28, 28)\n",
      "Xts shape: (10000, 28, 28)\n"
     ]
    }
   ],
   "source": [
    "import tensorflow as tf\n",
    "\n",
    "(Xtr,ytr),(Xts,yts) = tf.keras.datasets.mnist.load_data()\n",
    "\n",
    "print('Xtr shape: %s' % str(Xtr.shape))\n",
    "print('Xts shape: %s' % str(Xts.shape))\n",
    "\n",
    "ntr = Xtr.shape[0]\n",
    "nts = Xts.shape[0]\n",
    "nrow = Xtr.shape[1]\n",
    "ncol = Xtr.shape[2]"
   ]
  },
  {
   "cell_type": "markdown",
   "metadata": {},
   "source": [
    "Each pixel value is from `[0,255]`.  For this lab, it will be convenient to recale the value to -1 to 1 and reshape it as a `ntr x npix` and `nts x npix`."
   ]
  },
  {
   "cell_type": "code",
   "execution_count": 3,
   "metadata": {},
   "outputs": [],
   "source": [
    "npix = nrow*ncol\n",
    "Xtr = 2*(Xtr/255 - 0.5)\n",
    "Xtr = Xtr.reshape((ntr,npix))\n",
    "\n",
    "Xts = 2*(Xts/255 - 0.5)\n",
    "Xts = Xts.reshape((nts,npix))"
   ]
  },
  {
   "cell_type": "code",
   "execution_count": 4,
   "metadata": {},
   "outputs": [
    {
     "data": {
      "image/png": "[encoded data removed]",
      "text/plain": [
       "<Figure size 1000x300 with 8 Axes>"
      ]
     },
     "metadata": {},
     "output_type": "display_data"
    }
   ],
   "source": [
    "def plt_digit(ax, x):\n",
    "    nrow = 28\n",
    "    ncol = 28\n",
    "    xsq = x.reshape((nrow,ncol))\n",
    "    ax.imshow(xsq,  cmap='Greys_r')\n",
    "    ax.set_xticks([])\n",
    "    ax.set_yticks([])\n",
    "\n",
    "# Select random digits\n",
    "nplt = 8\n",
    "Iperm = np.random.permutation(ntr)\n",
    "\n",
    "# Plot the images using the subplot command\n",
    "fig, ax = plt.subplots(1,nplt,figsize=(10,3))\n",
    "for i in range(nplt):\n",
    "    ind = Iperm[i]\n",
    "    plt_digit(ax[i], Xtr[ind,:])"
   ]
  },
  {
   "cell_type": "markdown",
   "metadata": {},
   "source": [
    "## Trying a Logistic Regression Classifier\n",
    "\n",
    "To classify the digits, we will first use a logistic classifier.  We select a small number of samples for training. Generally, you would use more training samples, but the optimizer is very slow.  "
   ]
  },
  {
   "cell_type": "code",
   "execution_count": 5,
   "metadata": {},
   "outputs": [],
   "source": [
    "ntr1 = 5000\n",
    "Xtr1 = Xtr[Iperm[:ntr1],:]\n",
    "ytr1 = ytr[Iperm[:ntr1]]"
   ]
  },
  {
   "cell_type": "markdown",
   "metadata": {},
   "source": [
    "Now we run the optimizer.  I have placed the `verbose=10` option so that you can see the progress.  It may not appear in the browser but in the command line where you launched jupyter notebook.  This can take several minutes and will likely say that it ran out of iterations."
   ]
  },
  {
   "cell_type": "code",
   "execution_count": 6,
   "metadata": {},
   "outputs": [
    {
     "name": "stderr",
     "output_type": "stream",
     "text": [
      "[Parallel(n_jobs=1)]: Using backend SequentialBackend with 1 concurrent workers.\n"
     ]
    },
    {
     "name": "stdout",
     "output_type": "stream",
     "text": [
      "convergence after 408 epochs took 64 seconds\n"
     ]
    },
    {
     "name": "stderr",
     "output_type": "stream",
     "text": [
      "[Parallel(n_jobs=1)]: Done   1 out of   1 | elapsed:  1.1min remaining:    0.0s\n",
      "[Parallel(n_jobs=1)]: Done   1 out of   1 | elapsed:  1.1min finished\n"
     ]
    },
    {
     "data": {
      "text/html": [
       "<style>#sk-container-id-1 {color: black;background-color: white;}#sk-container-id-1 pre{padding: 0;}#sk-container-id-1 div.sk-toggleable {background-color: white;}#sk-container-id-1 label.sk-toggleable__label {cursor: pointer;display: block;width: 100%;margin-bottom: 0;padding: 0.3em;box-sizing: border-box;text-align: center;}#sk-container-id-1 label.sk-toggleable__label-arrow:before {content: \"▸\";float: left;margin-right: 0.25em;color: #696969;}#sk-container-id-1 label.sk-toggleable__label-arrow:hover:before {color: black;}#sk-container-id-1 div.sk-estimator:hover label.sk-toggleable__label-arrow:before {color: black;}#sk-container-id-1 div.sk-toggleable__content {max-height: 0;max-width: 0;overflow: hidden;text-align: left;background-color: #f0f8ff;}#sk-container-id-1 div.sk-toggleable__content pre {margin: 0.2em;color: black;border-radius: 0.25em;background-color: #f0f8ff;}#sk-container-id-1 input.sk-toggleable__control:checked~div.sk-toggleable__content {max-height: 200px;max-width: 100%;overflow: auto;}#sk-container-id-1 input.sk-toggleable__control:checked~label.sk-toggleable__label-arrow:before {content: \"▾\";}#sk-container-id-1 div.sk-estimator input.sk-toggleable__control:checked~label.sk-toggleable__label {background-color: #d4ebff;}#sk-container-id-1 div.sk-label input.sk-toggleable__control:checked~label.sk-toggleable__label {background-color: #d4ebff;}#sk-container-id-1 input.sk-hidden--visually {border: 0;clip: rect(1px 1px 1px 1px);clip: rect(1px, 1px, 1px, 1px);height: 1px;margin: -1px;overflow: hidden;padding: 0;position: absolute;width: 1px;}#sk-container-id-1 div.sk-estimator {font-family: monospace;background-color: #f0f8ff;border: 1px dotted black;border-radius: 0.25em;box-sizing: border-box;margin-bottom: 0.5em;}#sk-container-id-1 div.sk-estimator:hover {background-color: #d4ebff;}#sk-container-id-1 div.sk-parallel-item::after {content: \"\";width: 100%;border-bottom: 1px solid gray;flex-grow: 1;}#sk-container-id-1 div.sk-label:hover label.sk-toggleable__label {background-color: #d4ebff;}#sk-container-id-1 div.sk-serial::before {content: \"\";position: absolute;border-left: 1px solid gray;box-sizing: border-box;top: 0;bottom: 0;left: 50%;z-index: 0;}#sk-container-id-1 div.sk-serial {display: flex;flex-direction: column;align-items: center;background-color: white;padding-right: 0.2em;padding-left: 0.2em;position: relative;}#sk-container-id-1 div.sk-item {position: relative;z-index: 1;}#sk-container-id-1 div.sk-parallel {display: flex;align-items: stretch;justify-content: center;background-color: white;position: relative;}#sk-container-id-1 div.sk-item::before, #sk-container-id-1 div.sk-parallel-item::before {content: \"\";position: absolute;border-left: 1px solid gray;box-sizing: border-box;top: 0;bottom: 0;left: 50%;z-index: -1;}#sk-container-id-1 div.sk-parallel-item {display: flex;flex-direction: column;z-index: 1;position: relative;background-color: white;}#sk-container-id-1 div.sk-parallel-item:first-child::after {align-self: flex-end;width: 50%;}#sk-container-id-1 div.sk-parallel-item:last-child::after {align-self: flex-start;width: 50%;}#sk-container-id-1 div.sk-parallel-item:only-child::after {width: 0;}#sk-container-id-1 div.sk-dashed-wrapped {border: 1px dashed gray;margin: 0 0.4em 0.5em 0.4em;box-sizing: border-box;padding-bottom: 0.4em;background-color: white;}#sk-container-id-1 div.sk-label label {font-family: monospace;font-weight: bold;display: inline-block;line-height: 1.2em;}#sk-container-id-1 div.sk-label-container {text-align: center;}#sk-container-id-1 div.sk-container {/* jupyter's `normalize.less` sets `[hidden] { display: none; }` but bootstrap.min.css set `[hidden] { display: none !important; }` so we also need the `!important` here to be able to override the default hidden behavior on the sphinx rendered scikit-learn.org. See: https://github.com/scikit-learn/scikit-learn/issues/21755 */display: inline-block !important;position: relative;}#sk-container-id-1 div.sk-text-repr-fallback {display: none;}</style><div id=\"sk-container-id-1\" class=\"sk-top-container\"><div class=\"sk-text-repr-fallback\"><pre>LogisticRegression(max_iter=500, solver=&#x27;sag&#x27;, verbose=10)</pre><b>In a Jupyter environment, please rerun this cell to show the HTML representation or trust the notebook. <br />On GitHub, the HTML representation is unable to render, please try loading this page with nbviewer.org.</b></div><div class=\"sk-container\" hidden><div class=\"sk-item\"><div class=\"sk-estimator sk-toggleable\"><input class=\"sk-toggleable__control sk-hidden--visually\" id=\"sk-estimator-id-1\" type=\"checkbox\" checked><label for=\"sk-estimator-id-1\" class=\"sk-toggleable__label sk-toggleable__label-arrow\">LogisticRegression</label><div class=\"sk-toggleable__content\"><pre>LogisticRegression(max_iter=500, solver=&#x27;sag&#x27;, verbose=10)</pre></div></div></div></div></div>"
      ],
      "text/plain": [
       "LogisticRegression(max_iter=500, solver='sag', verbose=10)"
      ]
     },
     "execution_count": 6,
     "metadata": {},
     "output_type": "execute_result"
    }
   ],
   "source": [
    "from sklearn import linear_model\n",
    "logreg = linear_model.LogisticRegression(verbose=10, solver='sag',\\\n",
    "                                         max_iter=500)\n",
    "logreg.fit(Xtr1,ytr1)"
   ]
  },
  {
   "cell_type": "markdown",
   "metadata": {},
   "source": [
    "The speed of the solution depends on the solver you use. 'sag' is a fast solver. For a full list of solvers, their definitions and speed, take a loot at: \n",
    "https://stackoverflow.com/questions/38640109/logistic-regression-python-solvers-definitions\n",
    "Before continuing, since it takes so long to run the optimizer, let's save the results in a file.  You can use `pickle` module for this purpose."
   ]
  },
  {
   "cell_type": "code",
   "execution_count": 7,
   "metadata": {},
   "outputs": [],
   "source": [
    "import pickle\n",
    "\n",
    "with open( \"mnist_logreg.p\", \"wb\" ) as fp:\n",
    "    pickle.dump( [logreg, Xtr1, ytr1, Iperm],  fp)"
   ]
  },
  {
   "cell_type": "markdown",
   "metadata": {},
   "source": [
    "Then, we can recover the objects via the `pickle.load` command"
   ]
  },
  {
   "cell_type": "code",
   "execution_count": 8,
   "metadata": {},
   "outputs": [],
   "source": [
    "with open( \"mnist_logreg.p\", \"rb\" ) as fp:\n",
    "    logreg, Xtr1, ytr1, Iperm = pickle.load(fp)"
   ]
  },
  {
   "cell_type": "markdown",
   "metadata": {},
   "source": [
    "Now, we can measure the accuracy on the test data.  Again, we will test on a small sub-sample."
   ]
  },
  {
   "cell_type": "code",
   "execution_count": 9,
   "metadata": {},
   "outputs": [
    {
     "name": "stdout",
     "output_type": "stream",
     "text": [
      "Accuaracy = 0.890600\n"
     ]
    }
   ],
   "source": [
    "nts1 = 5000\n",
    "Iperm_ts = np.random.permutation(nts) \n",
    "Xts1 = Xts[Iperm_ts[:nts1],:]\n",
    "yts1 = yts[Iperm_ts[:nts1]]\n",
    "yhat = logreg.predict(Xts1)\n",
    "acc = np.mean(yhat == yts1)\n",
    "print('Accuaracy = {0:f}'.format(acc))"
   ]
  },
  {
   "cell_type": "markdown",
   "metadata": {},
   "source": [
    "You should get an accuracy of around 89%.  This may sounds OK, but it is actually very poor.  Had we increased the number of training samples, it would have improved to about 92%, but that is still very bad.  To illustrate, let's plot some of the errors.  "
   ]
  },
  {
   "cell_type": "code",
   "execution_count": 10,
   "metadata": {},
   "outputs": [
    {
     "data": {
      "image/png": "[encoded data removed]",
      "text/plain": [
       "<Figure size 1000x400 with 4 Axes>"
      ]
     },
     "metadata": {},
     "output_type": "display_data"
    }
   ],
   "source": [
    "nplt = 4\n",
    "Ierr = np.where(yts1 != yhat)[0]\n",
    "\n",
    "fig, ax = plt.subplots(1,nplt,figsize=(10, 4))\n",
    "for i in range(nplt):        \n",
    "    ind = Ierr[i]    \n",
    "    plt_digit(ax[i], Xts1[ind,:])        \n",
    "    title = 'true={0:d} est={1:d}'.format(yts1[ind].astype(int), yhat[ind].astype(int))\n",
    "    ax[i].set_title(title)"
   ]
  },
  {
   "cell_type": "markdown",
   "metadata": {},
   "source": [
    "Obviously, some of these digits are very easy to classify for a human.  We can get more fine-grained analysis of the digit errors by computing the confusion matrix."
   ]
  },
  {
   "cell_type": "code",
   "execution_count": 11,
   "metadata": {},
   "outputs": [
    {
     "name": "stdout",
     "output_type": "stream",
     "text": [
      "[[0.949 0.    0.002 0.002 0.    0.03  0.01  0.006 0.004 0.   ]\n",
      " [0.    0.972 0.004 0.004 0.    0.005 0.004 0.002 0.014 0.   ]\n",
      " [0.014 0.019 0.835 0.026 0.016 0.002 0.01  0.014 0.058 0.002]\n",
      " [0.008 0.    0.018 0.864 0.002 0.041 0.004 0.016 0.042 0.012]\n",
      " [0.    0.012 0.012 0.    0.883 0.007 0.01  0.012 0.012 0.047]\n",
      " [0.008 0.002 0.006 0.051 0.006 0.846 0.013 0.006 0.036 0.006]\n",
      " [0.01  0.003 0.01  0.004 0.014 0.018 0.927 0.004 0.008 0.   ]\n",
      " [0.002 0.01  0.026 0.004 0.006 0.    0.    0.908 0.    0.043]\n",
      " [0.014 0.016 0.02  0.031 0.018 0.037 0.015 0.006 0.833 0.012]\n",
      " [0.01  0.007 0.008 0.004 0.051 0.011 0.002 0.027 0.012 0.872]]\n"
     ]
    },
    {
     "data": {
      "text/plain": [
       "<matplotlib.colorbar.Colorbar at 0x7fefcce2c250>"
      ]
     },
     "execution_count": 11,
     "metadata": {},
     "output_type": "execute_result"
    },
    {
     "data": {
      "image/png": "[encoded data removed]",
      "text/plain": [
       "<Figure size 640x480 with 2 Axes>"
      ]
     },
     "metadata": {},
     "output_type": "display_data"
    }
   ],
   "source": [
    "from sklearn.metrics import confusion_matrix\n",
    "C = confusion_matrix(yts1,yhat)\n",
    "\n",
    "# Normalize the confusion matrix\n",
    "Csum = np.sum(C,1)\n",
    "C = C / Csum[None,:]\n",
    "\n",
    "# Print the confusion matrix\n",
    "print(np.array_str(C, precision=3, suppress_small=True))\n",
    "plt.imshow(C, interpolation='none')\n",
    "plt.colorbar()"
   ]
  },
  {
   "cell_type": "markdown",
   "metadata": {},
   "source": [
    "## Visualizing the Weights\n",
    "\n",
    "To see the problem with the logistic classifier, it is useful to plot the weights for each digit.  "
   ]
  },
  {
   "cell_type": "code",
   "execution_count": 12,
   "metadata": {},
   "outputs": [
    {
     "data": {
      "image/png": "[encoded data removed]",
      "text/plain": [
       "<Figure size 1000x500 with 10 Axes>"
      ]
     },
     "metadata": {},
     "output_type": "display_data"
    }
   ],
   "source": [
    "W = logreg.coef_\n",
    "ndigit = W.shape[0]\n",
    "fig, ax = plt.subplots(2,5,figsize=(10, 5))\n",
    "for i in range(ndigit):\n",
    "    irow = i // 5\n",
    "    icol = i % 5\n",
    "    plt_digit(ax[irow,icol], W[i,:])"
   ]
  },
  {
   "cell_type": "markdown",
   "metadata": {},
   "source": [
    "What you see is that each weight is a very blurry version of the digit.  The blurriness is due to the fact that weight must correlate with all shifts, rotations and other variations of the digits.  As a result, the weights begin to correlate with other incorrect digits leading to poor performance."
   ]
  },
  {
   "cell_type": "markdown",
   "metadata": {},
   "source": [
    "To illustrate this problem more clearly, the code below does the following:\n",
    "\n",
    "*  Takes `nplot=8` random training digits with the label 2 and `nplot=8` that are not the digit 2.\n",
    "*  Finds a weight `w` to the first of the digits with the label 2.\n",
    "*  Plots the all the digits `x` and their correlation with the weight `z = w.dot(x)`\n",
    "\n",
    "We see that the correlation `z` is not consistently higher for the digits 2 instead of the non-digit 2.\n",
    "Therefore, if we try to use a linear classifier with this weight we would make a lot of errors."
   ]
  },
  {
   "cell_type": "code",
   "execution_count": 13,
   "metadata": {
    "scrolled": true
   },
   "outputs": [
    {
     "data": {
      "image/png": "[encoded data removed]",
      "text/plain": [
       "<Figure size 1200x600 with 16 Axes>"
      ]
     },
     "metadata": {},
     "output_type": "display_data"
    }
   ],
   "source": [
    "# Find digits with 2 and digits that are not 2\n",
    "idig = 2\n",
    "Idig   = np.where(ytr==idig)[0]\n",
    "Inodig = np.where(ytr!=idig)[0]\n",
    "n = len(Idig)\n",
    "Idig = Idig[np.random.permutation(n)]\n",
    "n = len(Inodig)\n",
    "Inodig = Inodig[np.random.permutation(n)]\n",
    "\n",
    "# Set the weight to the first digit\n",
    "w = Xtr[Idig[0],:]\n",
    "w = w / np.sum(np.abs(w))\n",
    "\n",
    "# Find the correlation coefficient with the other digits 7\n",
    "nplot = 8\n",
    "fig, ax = plt.subplots(2,nplot,figsize=(12, 6))\n",
    "rho = np.zeros(nplot)\n",
    "for i in range(nplot):\n",
    "    # Get a true and false digit\n",
    "    j0 = Idig[i]\n",
    "    j1 = Inodig[i]\n",
    "    x0 = Xtr[j0,:]\n",
    "    x1 = Xtr[j1,:]\n",
    "    \n",
    "    # Compute the correlations with the two digits\n",
    "    rho0 = w.dot(x0)\n",
    "    rho1 = w.dot(x1)\n",
    "    \n",
    "    plt_digit(ax[0,i], x0)    \n",
    "    ax[0,i].set_title('%5.3f' % rho0)\n",
    "    plt_digit(ax[1,i], x1)\n",
    "    ax[1,i].set_title('%5.3f' % rho1)\n",
    "\n",
    "plt.tight_layout()"
   ]
  },
  {
   "cell_type": "markdown",
   "metadata": {},
   "source": [
    "## Run an SVM classifier\n",
    "\n",
    "We now try an SVM classifier.  The parameters are given by \n",
    "\n",
    "https://martin-thoma.com/svm-with-sklearn/\n",
    "\n",
    "This website has a nice summary of the main equations for SVM as well.  That site trained on 40000 samples and tested on 20000.  But, to make this run faster, we will train on 10000 and test on 10000.  If you increase to 40000 training samples, you can get past 99% accuracy.\n",
    "\n",
    "First, we import the SVM package and construct the SVC with the parameters."
   ]
  },
  {
   "cell_type": "markdown",
   "metadata": {},
   "source": [
    "## First let us try the linear kernel"
   ]
  },
  {
   "cell_type": "code",
   "execution_count": 14,
   "metadata": {},
   "outputs": [],
   "source": [
    "from sklearn import svm\n",
    "\n",
    "# Create a classifier: a support vector classifier\n",
    "# svc = svm.SVC(probability=False,  kernel=\"rbf\", C=2.8, gamma=.0073,verbose=10)\n",
    "svc = svm.SVC(probability=False,  kernel=\"linear\", C=2.8, gamma=.0073,verbose=10)"
   ]
  },
  {
   "cell_type": "markdown",
   "metadata": {},
   "source": [
    "Next, we get the training and test data.  The features are re-scaled to be between -1 and 1."
   ]
  },
  {
   "cell_type": "markdown",
   "metadata": {},
   "source": [
    "We fit the training data.  Again, this will take several minutes (or more!)."
   ]
  },
  {
   "cell_type": "code",
   "execution_count": 15,
   "metadata": {},
   "outputs": [],
   "source": [
    "ntr1 = 5000\n",
    "nts1 = 5000\n",
    "Xtr1 = Xtr[Iperm[:ntr1],:]\n",
    "ytr1 = ytr[Iperm[:ntr1]]\n",
    "Xts1 = Xts[Iperm_ts[:nts1],:]\n",
    "yts1 = yts[Iperm_ts[:nts1]]"
   ]
  },
  {
   "cell_type": "code",
   "execution_count": 16,
   "metadata": {},
   "outputs": [
    {
     "name": "stdout",
     "output_type": "stream",
     "text": [
      "[LibSVM]Epoch 1, change: 1.00000000\n",
      "Epoch 2, change: 0.29164566\n",
      "Epoch 3, change: 0.21904467\n",
      "Epoch 4, change: 0.23471474\n",
      "Epoch 5, change: 0.15178538\n",
      "Epoch 6, change: 0.13034775\n",
      "Epoch 7, change: 0.08384784\n",
      "Epoch 8, change: 0.10231454\n",
      "Epoch 9, change: 0.07997409\n",
      "Epoch 10, change: 0.09150987\n",
      "Epoch 11, change: 0.09007112\n",
      "Epoch 12, change: 0.09586067\n",
      "Epoch 13, change: 0.07307110\n",
      "Epoch 14, change: 0.05989883\n",
      "Epoch 15, change: 0.06861255\n",
      "Epoch 16, change: 0.05957070\n",
      "Epoch 17, change: 0.06390703\n",
      "Epoch 18, change: 0.05791509\n",
      "Epoch 19, change: 0.05547987\n",
      "Epoch 20, change: 0.04819539\n",
      "Epoch 21, change: 0.04830184\n",
      "Epoch 22, change: 0.04327619\n",
      "Epoch 23, change: 0.04529158\n",
      "Epoch 24, change: 0.06680538\n",
      "Epoch 25, change: 0.04091446\n",
      "Epoch 26, change: 0.06011380\n",
      "Epoch 27, change: 0.03235180\n",
      "Epoch 28, change: 0.04289309\n",
      "Epoch 29, change: 0.03113360\n",
      "Epoch 30, change: 0.03516150\n",
      "Epoch 31, change: 0.03787572\n",
      "Epoch 32, change: 0.03206638\n",
      "Epoch 33, change: 0.03079439\n",
      "Epoch 34, change: 0.03175972\n",
      "Epoch 35, change: 0.04506323\n",
      "Epoch 36, change: 0.02691193\n",
      "Epoch 37, change: 0.03902585\n",
      "Epoch 38, change: 0.03146546\n",
      "Epoch 39, change: 0.02416529\n",
      "Epoch 40, change: 0.02672714\n",
      "Epoch 41, change: 0.01998991\n",
      "Epoch 42, change: 0.02379748\n",
      "Epoch 43, change: 0.02073390\n",
      "Epoch 44, change: 0.02025039\n",
      "Epoch 45, change: 0.01549958\n",
      "Epoch 46, change: 0.01403768\n",
      "Epoch 47, change: 0.01236144\n",
      "Epoch 48, change: 0.01152551\n",
      "Epoch 49, change: 0.01230256\n",
      "Epoch 50, change: 0.01184744\n",
      "Epoch 51, change: 0.01304833\n",
      "Epoch 52, change: 0.01219596\n",
      "Epoch 53, change: 0.00999957\n",
      "Epoch 54, change: 0.01131520\n",
      "Epoch 55, change: 0.01061978\n",
      "Epoch 56, change: 0.00912953\n",
      "Epoch 57, change: 0.00904946\n",
      "Epoch 58, change: 0.00845088\n",
      "Epoch 59, change: 0.00757653\n",
      "Epoch 60, change: 0.00803669\n",
      "Epoch 61, change: 0.00802557\n",
      "Epoch 62, change: 0.00665339\n",
      "Epoch 63, change: 0.00661213\n",
      "Epoch 64, change: 0.00726837\n",
      "Epoch 65, change: 0.00696039\n",
      "Epoch 66, change: 0.00760989\n",
      "Epoch 67, change: 0.00644867\n",
      "Epoch 68, change: 0.00621021\n",
      "Epoch 69, change: 0.00784213\n",
      "Epoch 70, change: 0.00565589\n",
      "Epoch 71, change: 0.00589665\n",
      "Epoch 72, change: 0.00658130\n",
      "Epoch 73, change: 0.00644902\n",
      "Epoch 74, change: 0.00516850\n",
      "Epoch 75, change: 0.00456287\n",
      "Epoch 76, change: 0.00465123\n",
      "Epoch 77, change: 0.00464493\n",
      "Epoch 78, change: 0.00441779\n",
      "Epoch 79, change: 0.00449496\n",
      "Epoch 80, change: 0.00424875\n",
      "Epoch 81, change: 0.00412831\n",
      "Epoch 82, change: 0.00416567\n",
      "Epoch 83, change: 0.00376854\n",
      "Epoch 84, change: 0.00386225\n",
      "Epoch 85, change: 0.00377605\n",
      "Epoch 86, change: 0.00366170\n",
      "Epoch 87, change: 0.00367594\n",
      "Epoch 88, change: 0.00354918\n",
      "Epoch 89, change: 0.00343462\n",
      "Epoch 90, change: 0.00354604\n",
      "Epoch 91, change: 0.00344520\n",
      "Epoch 92, change: 0.00327109\n",
      "Epoch 93, change: 0.00334834\n",
      "Epoch 94, change: 0.00327381\n",
      "Epoch 95, change: 0.00316797\n",
      "Epoch 96, change: 0.00306849\n",
      "Epoch 97, change: 0.00314773\n",
      "Epoch 98, change: 0.00308669\n",
      "Epoch 99, change: 0.00300264\n",
      "Epoch 100, change: 0.00305418\n",
      "Epoch 101, change: 0.00288089\n",
      "Epoch 102, change: 0.00303714\n",
      "Epoch 103, change: 0.00288457\n",
      "Epoch 104, change: 0.00276841\n",
      "Epoch 105, change: 0.00279285\n",
      "Epoch 106, change: 0.00266460\n",
      "Epoch 107, change: 0.00260047\n",
      "Epoch 108, change: 0.00256047\n",
      "Epoch 109, change: 0.00262293\n",
      "Epoch 110, change: 0.00270751\n",
      "Epoch 111, change: 0.00262009\n",
      "Epoch 112, change: 0.00249142\n",
      "Epoch 113, change: 0.00248732\n",
      "Epoch 114, change: 0.00248047\n",
      "Epoch 115, change: 0.00232248\n",
      "Epoch 116, change: 0.00230236\n",
      "Epoch 117, change: 0.00227333\n",
      "Epoch 118, change: 0.00237468\n",
      "Epoch 119, change: 0.00229136\n",
      "Epoch 120, change: 0.00218779\n",
      "Epoch 121, change: 0.00217548\n",
      "Epoch 122, change: 0.00217727\n",
      "Epoch 123, change: 0.00210084\n",
      "Epoch 124, change: 0.00205967\n",
      "Epoch 125, change: 0.00211849\n",
      "Epoch 126, change: 0.00206743\n",
      "Epoch 127, change: 0.00203138\n",
      "Epoch 128, change: 0.00198580\n",
      "Epoch 129, change: 0.00198076\n",
      "Epoch 130, change: 0.00190737\n",
      "Epoch 131, change: 0.00190153\n",
      "Epoch 132, change: 0.00184303\n",
      "Epoch 133, change: 0.00189327\n",
      "Epoch 134, change: 0.00181983\n",
      "Epoch 135, change: 0.00175070\n",
      "Epoch 136, change: 0.00174356\n",
      "Epoch 137, change: 0.00174150\n",
      "Epoch 138, change: 0.00166710\n",
      "Epoch 139, change: 0.00165697\n",
      "Epoch 140, change: 0.00175432\n",
      "Epoch 141, change: 0.00162927\n",
      "Epoch 142, change: 0.00154392\n",
      "Epoch 143, change: 0.00165217\n",
      "Epoch 144, change: 0.00159777\n",
      "Epoch 145, change: 0.00154133\n",
      "Epoch 146, change: 0.00154102\n",
      "Epoch 147, change: 0.00149496\n",
      "Epoch 148, change: 0.00143721\n",
      "Epoch 149, change: 0.00142975\n",
      "Epoch 150, change: 0.00138273\n",
      "Epoch 151, change: 0.00139486\n",
      "Epoch 152, change: 0.00136882\n",
      "Epoch 153, change: 0.00145659\n",
      "Epoch 154, change: 0.00134706\n",
      "Epoch 155, change: 0.00131714\n",
      "Epoch 156, change: 0.00128647\n",
      "Epoch 157, change: 0.00131480\n",
      "Epoch 158, change: 0.00134608\n",
      "Epoch 159, change: 0.00126729\n",
      "Epoch 160, change: 0.00122523\n",
      "Epoch 161, change: 0.00123635\n",
      "Epoch 162, change: 0.00124993\n",
      "Epoch 163, change: 0.00123648\n",
      "Epoch 164, change: 0.00118034\n",
      "Epoch 165, change: 0.00116028\n",
      "Epoch 166, change: 0.00117137\n",
      "Epoch 167, change: 0.00118568\n",
      "Epoch 168, change: 0.00105260\n",
      "Epoch 169, change: 0.00108108\n",
      "Epoch 170, change: 0.00114522\n",
      "Epoch 171, change: 0.00116852\n",
      "Epoch 172, change: 0.00108566\n",
      "Epoch 173, change: 0.00098833\n",
      "Epoch 174, change: 0.00103476\n",
      "Epoch 175, change: 0.00105222\n",
      "Epoch 176, change: 0.00102955\n",
      "Epoch 177, change: 0.00099314\n",
      "Epoch 178, change: 0.00098085\n",
      "Epoch 179, change: 0.00096289\n",
      "Epoch 180, change: 0.00098292\n",
      "Epoch 181, change: 0.00095775\n",
      "Epoch 182, change: 0.00093036\n",
      "Epoch 183, change: 0.00093866\n",
      "Epoch 184, change: 0.00093477\n",
      "Epoch 185, change: 0.00089584\n",
      "Epoch 186, change: 0.00089167\n",
      "Epoch 187, change: 0.00087572\n",
      "Epoch 188, change: 0.00085347\n",
      "Epoch 189, change: 0.00086009\n",
      "Epoch 190, change: 0.00085355\n",
      "Epoch 191, change: 0.00084668\n",
      "Epoch 192, change: 0.00082891\n",
      "Epoch 193, change: 0.00082682\n",
      "Epoch 194, change: 0.00079897\n",
      "Epoch 195, change: 0.00081675\n",
      "Epoch 196, change: 0.00079873\n",
      "Epoch 197, change: 0.00077550\n",
      "Epoch 198, change: 0.00079275\n",
      "Epoch 199, change: 0.00075770\n",
      "Epoch 200, change: 0.00075604\n",
      "Epoch 201, change: 0.00073636\n",
      "Epoch 202, change: 0.00074513\n",
      "Epoch 203, change: 0.00071723\n",
      "Epoch 204, change: 0.00071318\n",
      "Epoch 205, change: 0.00071165\n",
      "Epoch 206, change: 0.00071815\n",
      "Epoch 207, change: 0.00071427\n",
      "Epoch 208, change: 0.00068570\n",
      "Epoch 209, change: 0.00067993\n",
      "Epoch 210, change: 0.00065556\n",
      "Epoch 211, change: 0.00064521\n",
      "Epoch 212, change: 0.00065218\n",
      "Epoch 213, change: 0.00064524\n",
      "Epoch 214, change: 0.00065910\n",
      "Epoch 215, change: 0.00063801\n",
      "Epoch 216, change: 0.00062298\n",
      "Epoch 217, change: 0.00061910\n",
      "Epoch 218, change: 0.00061047\n",
      "Epoch 219, change: 0.00059569\n",
      "Epoch 220, change: 0.00060323\n",
      "Epoch 221, change: 0.00058275\n",
      "Epoch 222, change: 0.00058162\n",
      "Epoch 223, change: 0.00055732\n",
      "Epoch 224, change: 0.00053870\n",
      "Epoch 225, change: 0.00057991\n",
      "Epoch 226, change: 0.00058740\n",
      "Epoch 227, change: 0.00052471\n",
      "Epoch 228, change: 0.00053853\n",
      "Epoch 229, change: 0.00054095\n",
      "Epoch 230, change: 0.00052537\n",
      "Epoch 231, change: 0.00052651\n",
      "Epoch 232, change: 0.00052026\n",
      "Epoch 233, change: 0.00051009\n",
      "Epoch 234, change: 0.00047312\n",
      "Epoch 235, change: 0.00046447\n",
      "Epoch 236, change: 0.00052956\n",
      "Epoch 237, change: 0.00052695\n",
      "Epoch 238, change: 0.00045947\n",
      "Epoch 239, change: 0.00046392\n",
      "Epoch 240, change: 0.00047299\n",
      "Epoch 241, change: 0.00047230\n",
      "Epoch 242, change: 0.00047200\n",
      "Epoch 243, change: 0.00048352\n",
      "Epoch 244, change: 0.00045080\n",
      "Epoch 245, change: 0.00044947\n",
      "Epoch 246, change: 0.00045067\n",
      "Epoch 247, change: 0.00043203\n",
      "Epoch 248, change: 0.00042240\n",
      "Epoch 249, change: 0.00042686\n",
      "Epoch 250, change: 0.00041846\n",
      "Epoch 251, change: 0.00041421\n",
      "Epoch 252, change: 0.00041043\n",
      "Epoch 253, change: 0.00041536\n",
      "Epoch 254, change: 0.00041009\n",
      "Epoch 255, change: 0.00039719\n",
      "Epoch 256, change: 0.00038584\n",
      "Epoch 257, change: 0.00039044\n",
      "Epoch 258, change: 0.00037751\n",
      "Epoch 259, change: 0.00038893\n",
      "Epoch 260, change: 0.00038155\n",
      "Epoch 261, change: 0.00038617\n",
      "Epoch 262, change: 0.00037418\n",
      "Epoch 263, change: 0.00036171\n",
      "Epoch 264, change: 0.00035631\n",
      "Epoch 265, change: 0.00036833\n",
      "Epoch 266, change: 0.00036485\n",
      "Epoch 267, change: 0.00034006\n",
      "Epoch 268, change: 0.00034511\n",
      "Epoch 269, change: 0.00034999\n",
      "Epoch 270, change: 0.00033786\n",
      "Epoch 271, change: 0.00033373\n",
      "Epoch 272, change: 0.00033873\n",
      "Epoch 273, change: 0.00033865\n",
      "Epoch 274, change: 0.00032851\n",
      "Epoch 275, change: 0.00031744\n",
      "Epoch 276, change: 0.00031269\n",
      "Epoch 277, change: 0.00032033\n",
      "Epoch 278, change: 0.00030477\n",
      "Epoch 279, change: 0.00029728\n",
      "Epoch 280, change: 0.00030532\n",
      "Epoch 281, change: 0.00031045\n",
      "Epoch 282, change: 0.00030465\n",
      "Epoch 283, change: 0.00029286\n",
      "Epoch 284, change: 0.00028913\n",
      "Epoch 285, change: 0.00029090\n",
      "Epoch 286, change: 0.00029018\n",
      "Epoch 287, change: 0.00028789\n",
      "Epoch 288, change: 0.00027468\n",
      "Epoch 289, change: 0.00027508\n",
      "Epoch 290, change: 0.00026702\n",
      "Epoch 291, change: 0.00027056\n",
      "Epoch 292, change: 0.00027422\n",
      "Epoch 293, change: 0.00027022\n",
      "Epoch 294, change: 0.00026732\n",
      "Epoch 295, change: 0.00025958\n",
      "Epoch 296, change: 0.00025873\n",
      "Epoch 297, change: 0.00024985\n",
      "Epoch 298, change: 0.00024830\n",
      "Epoch 299, change: 0.00025206\n",
      "Epoch 300, change: 0.00025435\n",
      "Epoch 301, change: 0.00024548\n",
      "Epoch 302, change: 0.00024239\n",
      "Epoch 303, change: 0.00024120\n",
      "Epoch 304, change: 0.00023981\n",
      "Epoch 305, change: 0.00023866\n",
      "Epoch 306, change: 0.00023439\n",
      "Epoch 307, change: 0.00022808\n",
      "Epoch 308, change: 0.00022429\n",
      "Epoch 309, change: 0.00022751\n",
      "Epoch 310, change: 0.00021777\n",
      "Epoch 311, change: 0.00022160\n",
      "Epoch 312, change: 0.00021782\n",
      "Epoch 313, change: 0.00021617\n",
      "Epoch 314, change: 0.00021046\n",
      "Epoch 315, change: 0.00021255\n",
      "Epoch 316, change: 0.00021668\n",
      "Epoch 317, change: 0.00020841\n",
      "Epoch 318, change: 0.00020954\n",
      "Epoch 319, change: 0.00020989\n",
      "Epoch 320, change: 0.00019939\n",
      "Epoch 321, change: 0.00019870\n",
      "Epoch 322, change: 0.00020006\n",
      "Epoch 323, change: 0.00019797\n",
      "Epoch 324, change: 0.00019838\n",
      "Epoch 325, change: 0.00019300\n",
      "Epoch 326, change: 0.00018763\n",
      "Epoch 327, change: 0.00019042\n",
      "Epoch 328, change: 0.00018514\n",
      "Epoch 329, change: 0.00018978\n",
      "Epoch 330, change: 0.00019225\n",
      "Epoch 331, change: 0.00018639\n",
      "Epoch 332, change: 0.00018410\n",
      "Epoch 333, change: 0.00018584\n",
      "Epoch 334, change: 0.00017883\n",
      "Epoch 335, change: 0.00017733\n",
      "Epoch 336, change: 0.00017349\n",
      "Epoch 337, change: 0.00017334\n",
      "Epoch 338, change: 0.00017318\n",
      "Epoch 339, change: 0.00017371\n",
      "Epoch 340, change: 0.00017427\n",
      "Epoch 341, change: 0.00016812\n",
      "Epoch 342, change: 0.00016530\n",
      "Epoch 343, change: 0.00016566\n",
      "Epoch 344, change: 0.00016465\n",
      "Epoch 345, change: 0.00016644\n",
      "Epoch 346, change: 0.00016343\n",
      "Epoch 347, change: 0.00016220\n",
      "Epoch 348, change: 0.00015808\n",
      "Epoch 349, change: 0.00015707\n",
      "Epoch 350, change: 0.00015998\n",
      "Epoch 351, change: 0.00015573\n",
      "Epoch 352, change: 0.00015054\n",
      "Epoch 353, change: 0.00015315\n",
      "Epoch 354, change: 0.00015287\n",
      "Epoch 355, change: 0.00014974\n",
      "Epoch 356, change: 0.00014717\n",
      "Epoch 357, change: 0.00014933\n",
      "Epoch 358, change: 0.00014656\n",
      "Epoch 359, change: 0.00014623\n",
      "Epoch 360, change: 0.00014768\n",
      "Epoch 361, change: 0.00014518\n",
      "Epoch 362, change: 0.00014007\n",
      "Epoch 363, change: 0.00014153\n",
      "Epoch 364, change: 0.00014181\n",
      "Epoch 365, change: 0.00013872\n",
      "Epoch 366, change: 0.00013992\n",
      "Epoch 367, change: 0.00013920\n",
      "Epoch 368, change: 0.00013624\n",
      "Epoch 369, change: 0.00013441\n",
      "Epoch 370, change: 0.00013381\n",
      "Epoch 371, change: 0.00013447\n",
      "Epoch 372, change: 0.00013312\n",
      "Epoch 373, change: 0.00013165\n",
      "Epoch 374, change: 0.00013183\n",
      "Epoch 375, change: 0.00012911\n",
      "Epoch 376, change: 0.00012845\n",
      "Epoch 377, change: 0.00012610\n",
      "Epoch 378, change: 0.00012664\n",
      "Epoch 379, change: 0.00012376\n",
      "Epoch 380, change: 0.00012423\n",
      "Epoch 381, change: 0.00012408\n",
      "Epoch 382, change: 0.00012218\n",
      "Epoch 383, change: 0.00012178\n",
      "Epoch 384, change: 0.00012001\n",
      "Epoch 385, change: 0.00011794\n",
      "Epoch 386, change: 0.00011906\n",
      "Epoch 387, change: 0.00011541\n",
      "Epoch 388, change: 0.00011538\n",
      "Epoch 389, change: 0.00011574\n",
      "Epoch 390, change: 0.00011538\n",
      "Epoch 391, change: 0.00011247\n",
      "Epoch 392, change: 0.00011246\n",
      "Epoch 393, change: 0.00011149\n",
      "Epoch 394, change: 0.00011251\n",
      "Epoch 395, change: 0.00011050\n",
      "Epoch 396, change: 0.00011037\n",
      "Epoch 397, change: 0.00010837\n",
      "Epoch 398, change: 0.00010678\n",
      "Epoch 399, change: 0.00010673\n",
      "Epoch 400, change: 0.00010539\n",
      "Epoch 401, change: 0.00010458\n",
      "Epoch 402, change: 0.00010388\n",
      "Epoch 403, change: 0.00010307\n",
      "Epoch 404, change: 0.00010325\n",
      "Epoch 405, change: 0.00010252\n",
      "Epoch 406, change: 0.00010136\n",
      "Epoch 407, change: 0.00010012\n",
      "*.*\n",
      "optimization finished, #iter = 1061\n",
      "obj = -0.693610, rho = -1.749174\n",
      "nSV = 84, nBSV = 0\n",
      "..................................*..............*\n",
      "optimization finished, #iter = 48894\n",
      "obj = -44.167804, rho = 16.858269\n",
      "nSV = 314, nBSV = 0\n",
      "............*.......*\n",
      "optimization finished, #iter = 19051\n",
      "obj = -10.484933, rho = 12.331035\n",
      "nSV = 245, nBSV = 0\n",
      "...*.*\n",
      "optimization finished, #iter = 4761\n",
      "obj = -3.825533, rho = 2.811385\n",
      "nSV = 168, nBSV = 0\n",
      "..........................................................................................*...............................................................................................*........................................................*\n",
      "optimization finished, #iter = 241926\n",
      "obj = -157.795531, rho = 26.675990\n",
      "nSV = 373, nBSV = 10\n",
      "........................*............*.*\n",
      "optimization finished, #iter = 36937\n",
      "obj = -38.479704, rho = 1.173962\n",
      "nSV = 275, nBSV = 0\n",
      "..*.*\n",
      "optimization finished, #iter = 3695\n",
      "obj = -2.622897, rho = -0.031456\n",
      "nSV = 161, nBSV = 0\n",
      "...........................................*.........................*\n",
      "optimization finished, #iter = 68146\n",
      "obj = -64.983797, rho = 12.066650\n",
      "nSV = 295, nBSV = 1\n",
      ".........*.....*\n",
      "optimization finished, #iter = 14643\n",
      "obj = -10.290613, rho = 4.688524\n",
      "nSV = 224, nBSV = 0\n",
      ".......................................*.....................*\n",
      "optimization finished, #iter = 60564\n",
      "obj = -88.566487, rho = 30.593569\n",
      "nSV = 306, nBSV = 2\n",
      "..........................*................*\n",
      "optimization finished, #iter = 42237\n",
      "obj = -51.348806, rho = 22.547830\n",
      "nSV = 272, nBSV = 0\n",
      "....*..*\n",
      "optimization finished, #iter = 6582\n",
      "obj = -8.619113, rho = -2.530338\n",
      "nSV = 169, nBSV = 0\n",
      "....*.....*\n",
      "optimization finished, #iter = 9544\n",
      "obj = -7.257865, rho = 16.388734\n",
      "nSV = 203, nBSV = 0\n",
      ".*.*\n",
      "optimization finished, #iter = 2172\n",
      "obj = -1.689577, rho = 2.006723\n",
      "nSV = 121, nBSV = 0\n",
      "....*..*\n",
      "optimization finished, #iter = 6702\n",
      "obj = -15.139013, rho = 14.216136\n",
      "nSV = 165, nBSV = 0\n",
      "...................................................................................................................................*..........................................................................................................................................*......*\n",
      "optimization finished, #iter = 275566\n",
      "obj = -418.272148, rho = 28.867909\n",
      "nSV = 413, nBSV = 64\n",
      "......*....*\n",
      "optimization finished, #iter = 10490\n",
      "obj = -15.702927, rho = 5.522743\n",
      "nSV = 179, nBSV = 0\n",
      ".............................................................................................................................................................................................................................................................................................................................................................................................................................................................................................................................................*...............................................................................................................................................................................................................................................................................................................................................................................................................................................................................................................................................................................................................................................................................................................................................................................................................................................................................................................................................................................................................................................................................................................................................................................................................................................................................................................................*.........................................................................................................................................................................................................................................................................................................................................................................................................................................................................................................................................................................................................................................................................................................................................................................................................................................................................................................................................................................................................................................................................................................................................*................................................................................................................................................................................................................................................................................................................*\n",
      "optimization finished, #iter = 3204066\n",
      "obj = -1354.242636, rho = 6.474983\n",
      "nSV = 791, nBSV = 314\n",
      ".............................................................................................................................*............................................................................................................................*.........................*\n",
      "optimization finished, #iter = 274636\n",
      "obj = -248.865586, rho = -23.565404\n",
      "nSV = 436, nBSV = 23\n",
      ".................................................................................................................................................................................................................*..................................................................................................................................................................................................................*..........................................................................................................................*\n",
      "optimization finished, #iter = 541486\n",
      "obj = -342.875347, rho = -16.591446\n",
      "nSV = 459, nBSV = 34\n",
      "........................................................................................................................................*................................................................................................................*.............................................*\n",
      "optimization finished, #iter = 292915\n",
      "obj = -292.771922, rho = -22.132809\n",
      "nSV = 434, nBSV = 31\n",
      ".........................................................................................................................*.............................................................................................................................................*....................*\n",
      "optimization finished, #iter = 281921\n",
      "obj = -222.535585, rho = -21.278500\n",
      "nSV = 421, nBSV = 21\n",
      "...........................................................................................................................................................................................................................................................................................................................................................................................................................................................*..........................................................................................................................................................................................................................................................................................................................................................................................................................................................................................................................................................................................................................................................................................................................................................................................................................................................*...................................................................................................................................................................................................................................................................................................................................................................................*.........................................................*\n",
      "optimization finished, #iter = 1696997\n",
      "obj = -1203.732879, rho = -25.775768\n",
      "nSV = 723, nBSV = 267\n",
      "...............................................................*...........................................*\n",
      "optimization finished, #iter = 106476\n",
      "obj = -86.807808, rho = -18.419545\n",
      "nSV = 346, nBSV = 2\n",
      "........*....*\n",
      "optimization finished, #iter = 12832\n",
      "obj = -11.739990, rho = -8.538606\n",
      "nSV = 234, nBSV = 0\n",
      "...................................................................................................................................................................................................................................................................................................................................................................................................................................................................................................................................................................................................................................................................................*............................................................................................................................................................................................................................................................................................................................................................................................................................................................................................................................................................................................................................................................................................................................................................................................................................................................................................................................................................*.................................................................................................................................................................................................................................................................................................................................................................................................................................................................................................................................................................................................................................................................................................................................................................................................................................................................................................................................................................................................................................................*...............................................................................................................................................*\n",
      "optimization finished, #iter = 2735107\n",
      "obj = -1899.250311, rho = 9.008828\n",
      "nSV = 985, nBSV = 511\n",
      ".....*...*\n",
      "optimization finished, #iter = 8300\n",
      "obj = -5.239328, rho = -5.300510\n",
      "nSV = 205, nBSV = 0\n",
      "..........................................................................*..............................................................*......*\n",
      "optimization finished, #iter = 142727\n",
      "obj = -181.623908, rho = -35.987234\n",
      "nSV = 384, nBSV = 17\n",
      "................................................................................................................................................................................................................................................................................................................................................................................................................................................................................................................................................................................................................................................................................................................................................................................................................*....................................................................................................................................................................................................................................................................................................................................................................................................................................................................................................................................................................................................................................................................................................................................................................................................................................................................................................................................................................................................................................................................................................................................................................................................................................................................................................................................................................................................................................................................................................................................................................................................................................................................................*...................................................................................................................................................................................................................................................................................................................................................................................................................................................................................................................................................*....*\n",
      "optimization finished, #iter = 2938622\n",
      "obj = -1896.252100, rho = -30.705564\n",
      "nSV = 951, nBSV = 488\n",
      "...................................................................................................................................................*..................................................................................................................................................................................................*...........................*\n",
      "optimization finished, #iter = 367521\n",
      "obj = -379.508447, rho = -40.704149\n",
      "nSV = 437, nBSV = 61\n",
      "...........................*...............*\n",
      "optimization finished, #iter = 42970\n",
      "obj = -35.440386, rho = 18.949308\n",
      "nSV = 309, nBSV = 0\n",
      "........................*.................*\n",
      "optimization finished, #iter = 41349\n",
      "obj = -34.104880, rho = 11.090530\n",
      "nSV = 305, nBSV = 0\n",
      "...............................................................*...........................................*..........*\n",
      "optimization finished, #iter = 116808\n",
      "obj = -108.694863, rho = -0.463875\n",
      "nSV = 340, nBSV = 2\n",
      "..............*.........*\n",
      "optimization finished, #iter = 23574\n",
      "obj = -21.832730, rho = 8.474159\n",
      "nSV = 266, nBSV = 0\n",
      "......................................................................................................................................................................................................................................................................................................................................................................................................................................................................*.............................................................................................................................................................................................................................................................................................................................................................................................................................................................................................................................................................................................................*.................................................................................................................................................................................................................................................................................................................................................................................................................................................................................................................................................................................................................................................*.......................................................................................................................................................................................................................................................................................*...............*\n",
      "optimization finished, #iter = 1961650\n",
      "obj = -1423.020014, rho = 26.250800\n",
      "nSV = 808, nBSV = 372\n",
      ".....................................................................................................................................................*................................................................................................................................*.........................*\n",
      "optimization finished, #iter = 302293\n",
      "obj = -393.730297, rho = -33.010075\n",
      "nSV = 442, nBSV = 70\n",
      "...........*.......*\n",
      "optimization finished, #iter = 18143\n",
      "obj = -14.923169, rho = -7.386405\n",
      "nSV = 255, nBSV = 0\n",
      "................................................................................................................................................................................................................................................................................................................................................................................................................................................................................................................................................................................................................................................................................................................................................................................................................*............................................................................................................................................................................................................................................................................................................................................................................................................................................................................................................................................................................................................................................................................................................................................................................................................................................................................................................................................................................................................................................................................................................................................................................................................................................................................................................................................................................................................................*...........................................................................................................................................................................................................................................................................................................................................................................................................................................................................................................................................................................................................................................................................................................................................................................................................................................................................*............................................................................................................................................................................................................................................................................................................................................................................................................................................................................................................................................................................................................................................................................................................................*\n",
      "optimization finished, #iter = 3699037\n",
      "obj = -1776.814899, rho = -4.931465\n",
      "nSV = 927, nBSV = 446\n",
      ".................................................................................................................*..........................................................................................................................*..................*\n",
      "optimization finished, #iter = 253724\n",
      "obj = -208.833565, rho = -35.408661\n",
      "nSV = 391, nBSV = 17\n",
      ".*.*\n",
      "optimization finished, #iter = 2354\n",
      "obj = -1.024745, rho = 0.491406\n",
      "nSV = 146, nBSV = 0\n",
      ".....................................*........................*\n",
      "optimization finished, #iter = 61422\n",
      "obj = -57.165650, rho = 6.676900\n",
      "nSV = 289, nBSV = 0\n",
      ".*.*\n",
      "optimization finished, #iter = 2873\n",
      "obj = -1.482441, rho = 1.893047\n",
      "nSV = 147, nBSV = 0\n",
      "......................*.................*\n",
      "optimization finished, #iter = 39690\n",
      "obj = -31.360995, rho = 4.932797\n",
      "nSV = 282, nBSV = 0\n",
      "...................................................................................................................................................................................................................................................................................................................................................................................................................................................................................................................................................................*.......................................................................................................................................................................................................................................................................................................................................................................................................................................................................................................................................................................................................................................................................................................................................................................................................................................................................*..................................................................................................................................................................................................................................................................................................................................................................................................................................................................................................................................................................................................................................................................................................................................................................................................................................................*....................................................................*\n",
      "optimization finished, #iter = 2271486\n",
      "obj = -2238.714497, rho = -5.179078\n",
      "nSV = 1100, nBSV = 641\n",
      ".................................................................................................................................................................................................................................*................................................................................................................................................................................................................................................................................*.............................................................................................................*..................*\n",
      "optimization finished, #iter = 623637\n",
      "obj = -476.438171, rho = -14.924526\n",
      "nSV = 450, nBSV = 75\n",
      "Total nSV = 10124\n"
     ]
    },
    {
     "data": {
      "text/html": [
       "<style>#sk-container-id-2 {color: black;background-color: white;}#sk-container-id-2 pre{padding: 0;}#sk-container-id-2 div.sk-toggleable {background-color: white;}#sk-container-id-2 label.sk-toggleable__label {cursor: pointer;display: block;width: 100%;margin-bottom: 0;padding: 0.3em;box-sizing: border-box;text-align: center;}#sk-container-id-2 label.sk-toggleable__label-arrow:before {content: \"▸\";float: left;margin-right: 0.25em;color: #696969;}#sk-container-id-2 label.sk-toggleable__label-arrow:hover:before {color: black;}#sk-container-id-2 div.sk-estimator:hover label.sk-toggleable__label-arrow:before {color: black;}#sk-container-id-2 div.sk-toggleable__content {max-height: 0;max-width: 0;overflow: hidden;text-align: left;background-color: #f0f8ff;}#sk-container-id-2 div.sk-toggleable__content pre {margin: 0.2em;color: black;border-radius: 0.25em;background-color: #f0f8ff;}#sk-container-id-2 input.sk-toggleable__control:checked~div.sk-toggleable__content {max-height: 200px;max-width: 100%;overflow: auto;}#sk-container-id-2 input.sk-toggleable__control:checked~label.sk-toggleable__label-arrow:before {content: \"▾\";}#sk-container-id-2 div.sk-estimator input.sk-toggleable__control:checked~label.sk-toggleable__label {background-color: #d4ebff;}#sk-container-id-2 div.sk-label input.sk-toggleable__control:checked~label.sk-toggleable__label {background-color: #d4ebff;}#sk-container-id-2 input.sk-hidden--visually {border: 0;clip: rect(1px 1px 1px 1px);clip: rect(1px, 1px, 1px, 1px);height: 1px;margin: -1px;overflow: hidden;padding: 0;position: absolute;width: 1px;}#sk-container-id-2 div.sk-estimator {font-family: monospace;background-color: #f0f8ff;border: 1px dotted black;border-radius: 0.25em;box-sizing: border-box;margin-bottom: 0.5em;}#sk-container-id-2 div.sk-estimator:hover {background-color: #d4ebff;}#sk-container-id-2 div.sk-parallel-item::after {content: \"\";width: 100%;border-bottom: 1px solid gray;flex-grow: 1;}#sk-container-id-2 div.sk-label:hover label.sk-toggleable__label {background-color: #d4ebff;}#sk-container-id-2 div.sk-serial::before {content: \"\";position: absolute;border-left: 1px solid gray;box-sizing: border-box;top: 0;bottom: 0;left: 50%;z-index: 0;}#sk-container-id-2 div.sk-serial {display: flex;flex-direction: column;align-items: center;background-color: white;padding-right: 0.2em;padding-left: 0.2em;position: relative;}#sk-container-id-2 div.sk-item {position: relative;z-index: 1;}#sk-container-id-2 div.sk-parallel {display: flex;align-items: stretch;justify-content: center;background-color: white;position: relative;}#sk-container-id-2 div.sk-item::before, #sk-container-id-2 div.sk-parallel-item::before {content: \"\";position: absolute;border-left: 1px solid gray;box-sizing: border-box;top: 0;bottom: 0;left: 50%;z-index: -1;}#sk-container-id-2 div.sk-parallel-item {display: flex;flex-direction: column;z-index: 1;position: relative;background-color: white;}#sk-container-id-2 div.sk-parallel-item:first-child::after {align-self: flex-end;width: 50%;}#sk-container-id-2 div.sk-parallel-item:last-child::after {align-self: flex-start;width: 50%;}#sk-container-id-2 div.sk-parallel-item:only-child::after {width: 0;}#sk-container-id-2 div.sk-dashed-wrapped {border: 1px dashed gray;margin: 0 0.4em 0.5em 0.4em;box-sizing: border-box;padding-bottom: 0.4em;background-color: white;}#sk-container-id-2 div.sk-label label {font-family: monospace;font-weight: bold;display: inline-block;line-height: 1.2em;}#sk-container-id-2 div.sk-label-container {text-align: center;}#sk-container-id-2 div.sk-container {/* jupyter's `normalize.less` sets `[hidden] { display: none; }` but bootstrap.min.css set `[hidden] { display: none !important; }` so we also need the `!important` here to be able to override the default hidden behavior on the sphinx rendered scikit-learn.org. See: https://github.com/scikit-learn/scikit-learn/issues/21755 */display: inline-block !important;position: relative;}#sk-container-id-2 div.sk-text-repr-fallback {display: none;}</style><div id=\"sk-container-id-2\" class=\"sk-top-container\"><div class=\"sk-text-repr-fallback\"><pre>SVC(C=2.8, gamma=0.0073, kernel=&#x27;linear&#x27;, verbose=10)</pre><b>In a Jupyter environment, please rerun this cell to show the HTML representation or trust the notebook. <br />On GitHub, the HTML representation is unable to render, please try loading this page with nbviewer.org.</b></div><div class=\"sk-container\" hidden><div class=\"sk-item\"><div class=\"sk-estimator sk-toggleable\"><input class=\"sk-toggleable__control sk-hidden--visually\" id=\"sk-estimator-id-2\" type=\"checkbox\" checked><label for=\"sk-estimator-id-2\" class=\"sk-toggleable__label sk-toggleable__label-arrow\">SVC</label><div class=\"sk-toggleable__content\"><pre>SVC(C=2.8, gamma=0.0073, kernel=&#x27;linear&#x27;, verbose=10)</pre></div></div></div></div></div>"
      ],
      "text/plain": [
       "SVC(C=2.8, gamma=0.0073, kernel='linear', verbose=10)"
      ]
     },
     "execution_count": 16,
     "metadata": {},
     "output_type": "execute_result"
    }
   ],
   "source": [
    "svc.fit(Xtr,ytr)"
   ]
  },
  {
   "cell_type": "markdown",
   "metadata": {},
   "source": [
    "Save the results in case you want them without re-running the above the code."
   ]
  },
  {
   "cell_type": "code",
   "execution_count": 17,
   "metadata": {},
   "outputs": [],
   "source": [
    "import pickle\n",
    "\n",
    "with open( \"mnist_svc.p\", \"wb\" ) as fp:\n",
    "    pickle.dump( [svc, Xtr1,ytr1], fp)"
   ]
  },
  {
   "cell_type": "markdown",
   "metadata": {},
   "source": [
    "We can reload the data"
   ]
  },
  {
   "cell_type": "code",
   "execution_count": 18,
   "metadata": {},
   "outputs": [],
   "source": [
    "# Can skip this step if you run the classifier directly\n",
    "import pickle\n",
    "with open( \"mnist_svc.p\", \"rb\" ) as fp:\n",
    "    svc, Xtr1,ytr1 = pickle.load(fp)"
   ]
  },
  {
   "cell_type": "markdown",
   "metadata": {},
   "source": [
    "Measure the accuracy on the test data.  The prediction can take several minutes too -- SVMs are *very* slow!"
   ]
  },
  {
   "cell_type": "code",
   "execution_count": 19,
   "metadata": {},
   "outputs": [],
   "source": [
    "yhat_ts = svc.predict(Xts1)"
   ]
  },
  {
   "cell_type": "markdown",
   "metadata": {},
   "source": [
    "Since even the prediction (sometimes called inference) is slow with SVMs, we will save the results in `pickle` file. Instead of running the prediction again, you can recapture the data with the following comamnd"
   ]
  },
  {
   "cell_type": "code",
   "execution_count": 20,
   "metadata": {},
   "outputs": [],
   "source": [
    "with open(\"mnist_svc_test.p\", \"wb\") as fp:\n",
    "    pickle.dump([Xts1,yts1,yhat_ts], fp)"
   ]
  },
  {
   "cell_type": "code",
   "execution_count": 21,
   "metadata": {},
   "outputs": [],
   "source": [
    "with open(\"mnist_svc_test.p\", \"rb\") as fp:\n",
    "    Xts1,yts1,yhat_ts = pickle.load(fp)"
   ]
  },
  {
   "cell_type": "code",
   "execution_count": 22,
   "metadata": {},
   "outputs": [
    {
     "name": "stdout",
     "output_type": "stream",
     "text": [
      "Accuaracy = 0.932600\n"
     ]
    }
   ],
   "source": [
    "acc = np.mean(yhat_ts == yts1)\n",
    "print('Accuaracy = {0:f}'.format(acc))"
   ]
  },
  {
   "cell_type": "markdown",
   "metadata": {},
   "source": [
    "You should get an accuracy of around 93%.  Again, had you trained on all 50,000 samples, it would have been much better -- close to 98.5%.  But, even this result is much better than logistic regression."
   ]
  },
  {
   "cell_type": "markdown",
   "metadata": {},
   "source": [
    "## Looking at the Support Vectors\n",
    "\n",
    "Let's take a look at the support vectors.  We see there about over 2500 support vectors.  So, about quarter the training samples were used as SVs.  This is partly why the prediction was so slow."
   ]
  },
  {
   "cell_type": "code",
   "execution_count": 23,
   "metadata": {},
   "outputs": [
    {
     "data": {
      "text/plain": [
       "(10124, 784)"
      ]
     },
     "execution_count": 23,
     "metadata": {},
     "output_type": "execute_result"
    }
   ],
   "source": [
    "S = svc.support_vectors_\n",
    "S.shape"
   ]
  },
  {
   "cell_type": "markdown",
   "metadata": {},
   "source": [
    "Let us plot some support vectors"
   ]
  },
  {
   "cell_type": "code",
   "execution_count": 24,
   "metadata": {},
   "outputs": [
    {
     "data": {
      "image/png": "[encoded data removed]",
      "text/plain": [
       "<Figure size 1000x400 with 4 Axes>"
      ]
     },
     "metadata": {},
     "output_type": "display_data"
    }
   ],
   "source": [
    "nplt = 4\n",
    "nsv = S.shape[0]\n",
    "Iperms = np.random.permutation(nsv)\n",
    "fig, ax = plt.subplots(1,nplt,figsize=(10, 4))\n",
    "for i in range(nplt):                \n",
    "    ind = Iperms[i]\n",
    "    plt_digit(ax[i], S[ind,:])   "
   ]
  },
  {
   "cell_type": "markdown",
   "metadata": {},
   "source": [
    "We see that the support vectors look like digits we want to recognize. They are like the 'match filters'."
   ]
  },
  {
   "cell_type": "markdown",
   "metadata": {},
   "source": [
    "## Now let us see the performanc of SVM using the RBF kernel\n",
    "\n",
    "The main benefit of the SVMs is that they can provide nonlinear classification rules.  We can do this with a RBF kernel.  We first fit this as before -- again this will take a long time!  "
   ]
  },
  {
   "cell_type": "code",
   "execution_count": 25,
   "metadata": {},
   "outputs": [],
   "source": [
    "# Create a classifier: a support vector classifier\n",
    "svcrbf = svm.SVC(probability=False,  kernel=\"rbf\", C=2.8, gamma=.0073,verbose=10)"
   ]
  },
  {
   "cell_type": "code",
   "execution_count": 26,
   "metadata": {},
   "outputs": [
    {
     "name": "stdout",
     "output_type": "stream",
     "text": [
      "[LibSVM]*\n",
      "optimization finished, #iter = 327\n",
      "obj = -21.693337, rho = -0.616709\n",
      "nSV = 185, nBSV = 0\n",
      "*\n",
      "optimization finished, #iter = 690\n",
      "obj = -62.435726, rho = 0.147393\n",
      "nSV = 394, nBSV = 0\n",
      "*\n",
      "optimization finished, #iter = 639\n",
      "obj = -52.078788, rho = -0.012070\n",
      "nSV = 357, nBSV = 0\n",
      "*\n",
      "optimization finished, #iter = 567\n",
      "obj = -46.615917, rho = -0.149988\n",
      "nSV = 316, nBSV = 0\n",
      "*\n",
      "optimization finished, #iter = 780\n",
      "obj = -72.067871, rho = 0.033677\n",
      "nSV = 426, nBSV = 0\n",
      "*\n",
      "optimization finished, #iter = 660\n",
      "obj = -65.500267, rho = -0.129932\n",
      "nSV = 356, nBSV = 0\n",
      "*\n",
      "optimization finished, #iter = 534\n",
      "obj = -44.508479, rho = -0.221968\n",
      "nSV = 297, nBSV = 0\n",
      "*\n",
      "optimization finished, #iter = 667\n",
      "obj = -58.550193, rho = 0.057102\n",
      "nSV = 384, nBSV = 0\n",
      "*\n",
      "optimization finished, #iter = 606\n",
      "obj = -54.129110, rho = -0.203027\n",
      "nSV = 327, nBSV = 1\n",
      "*\n",
      "optimization finished, #iter = 478\n",
      "obj = -44.555740, rho = 0.840226\n",
      "nSV = 232, nBSV = 0\n",
      "*\n",
      "optimization finished, #iter = 424\n",
      "obj = -45.272286, rho = 0.699110\n",
      "nSV = 217, nBSV = 1\n",
      "*\n",
      "optimization finished, #iter = 393\n",
      "obj = -38.990608, rho = 0.493744\n",
      "nSV = 192, nBSV = 2\n",
      "*\n",
      "optimization finished, #iter = 441\n",
      "obj = -42.682384, rho = 0.713519\n",
      "nSV = 230, nBSV = 0\n",
      "*\n",
      "optimization finished, #iter = 347\n",
      "obj = -32.819757, rho = 0.501307\n",
      "nSV = 187, nBSV = 1\n",
      "*\n",
      "optimization finished, #iter = 436\n",
      "obj = -45.252273, rho = 0.509024\n",
      "nSV = 192, nBSV = 3\n",
      "*\n",
      "optimization finished, #iter = 557\n",
      "obj = -64.115091, rho = 0.638686\n",
      "nSV = 262, nBSV = 0\n",
      "*\n",
      "optimization finished, #iter = 421\n",
      "obj = -46.859475, rho = 0.462552\n",
      "nSV = 201, nBSV = 1\n",
      "*\n",
      "optimization finished, #iter = 809\n",
      "obj = -92.754432, rho = -0.217276\n",
      "nSV = 446, nBSV = 0\n",
      "*\n",
      "optimization finished, #iter = 688\n",
      "obj = -66.332507, rho = -0.308930\n",
      "nSV = 387, nBSV = 0\n",
      "*\n",
      "optimization finished, #iter = 709\n",
      "obj = -71.224298, rho = -0.133859\n",
      "nSV = 403, nBSV = 0\n",
      "*\n",
      "optimization finished, #iter = 776\n",
      "obj = -71.042265, rho = -0.341144\n",
      "nSV = 423, nBSV = 0\n",
      "*\n",
      "optimization finished, #iter = 625\n",
      "obj = -61.448726, rho = -0.352258\n",
      "nSV = 341, nBSV = 0\n",
      "*\n",
      "optimization finished, #iter = 872\n",
      "obj = -99.059766, rho = -0.138923\n",
      "nSV = 473, nBSV = 0\n",
      "*\n",
      "optimization finished, #iter = 651\n",
      "obj = -63.057330, rho = -0.342188\n",
      "nSV = 364, nBSV = 0\n",
      "*\n",
      "optimization finished, #iter = 601\n",
      "obj = -51.579613, rho = -0.159628\n",
      "nSV = 331, nBSV = 0\n",
      "*\n",
      "optimization finished, #iter = 863\n",
      "obj = -114.153072, rho = 0.040555\n",
      "nSV = 446, nBSV = 0\n",
      "*\n",
      "optimization finished, #iter = 581\n",
      "obj = -48.579214, rho = -0.106778\n",
      "nSV = 320, nBSV = 0\n",
      "*\n",
      "optimization finished, #iter = 624\n",
      "obj = -61.937575, rho = -0.210842\n",
      "nSV = 329, nBSV = 1\n",
      "*\n",
      "optimization finished, #iter = 891\n",
      "obj = -114.525003, rho = 0.029408\n",
      "nSV = 466, nBSV = 0\n",
      "*\n",
      "optimization finished, #iter = 708\n",
      "obj = -73.755666, rho = -0.234663\n",
      "nSV = 362, nBSV = 0\n",
      "*\n",
      "optimization finished, #iter = 714\n",
      "obj = -63.947375, rho = 0.224683\n",
      "nSV = 374, nBSV = 0\n",
      "*\n",
      "optimization finished, #iter = 640\n",
      "obj = -58.260162, rho = 0.044044\n",
      "nSV = 350, nBSV = 0\n",
      "*\n",
      "optimization finished, #iter = 705\n",
      "obj = -75.016300, rho = -0.074122\n",
      "nSV = 352, nBSV = 1\n",
      "*\n",
      "optimization finished, #iter = 696\n",
      "obj = -66.560439, rho = 0.260273\n",
      "nSV = 385, nBSV = 0\n",
      "*.*\n",
      "optimization finished, #iter = 1118\n",
      "obj = -144.721204, rho = -0.085320\n",
      "nSV = 481, nBSV = 3\n",
      "*\n",
      "optimization finished, #iter = 682\n",
      "obj = -73.137567, rho = -0.162921\n",
      "nSV = 351, nBSV = 1\n",
      "*\n",
      "optimization finished, #iter = 620\n",
      "obj = -56.399276, rho = -0.275796\n",
      "nSV = 331, nBSV = 0\n",
      "*\n",
      "optimization finished, #iter = 927\n",
      "obj = -111.452794, rho = -0.040784\n",
      "nSV = 485, nBSV = 0\n",
      "*\n",
      "optimization finished, #iter = 686\n",
      "obj = -75.742491, rho = -0.324302\n",
      "nSV = 355, nBSV = 0\n",
      "*\n",
      "optimization finished, #iter = 512\n",
      "obj = -34.598459, rho = -0.080820\n",
      "nSV = 289, nBSV = 0\n",
      "*\n",
      "optimization finished, #iter = 675\n",
      "obj = -63.898009, rho = 0.189495\n",
      "nSV = 366, nBSV = 0\n",
      "*\n",
      "optimization finished, #iter = 548\n",
      "obj = -43.291137, rho = -0.073938\n",
      "nSV = 303, nBSV = 0\n",
      "*\n",
      "optimization finished, #iter = 642\n",
      "obj = -65.279543, rho = 0.285493\n",
      "nSV = 341, nBSV = 0\n",
      "*.*\n",
      "optimization finished, #iter = 1004\n",
      "obj = -140.633852, rho = 0.009992\n",
      "nSV = 423, nBSV = 5\n",
      "*\n",
      "optimization finished, #iter = 745\n",
      "obj = -87.184837, rho = -0.323834\n",
      "nSV = 383, nBSV = 0\n",
      "Total nSV = 3087\n"
     ]
    }
   ],
   "source": [
    "# Can skip this step if loading from previous result \n",
    "svcrbf.fit(Xtr1,ytr1)\n",
    "import pickle\n",
    "with open( \"mnist_svcrbf.p\", \"wb\" ) as fp:\n",
    "    pickle.dump( [svcrbf, Xtr1, ytr1], fp)\n",
    "    "
   ]
  },
  {
   "cell_type": "code",
   "execution_count": 27,
   "metadata": {},
   "outputs": [],
   "source": [
    "# Can skip if you run the previous cell\n",
    "import pickle\n",
    "with open( \"mnist_svcrbf.p\", \"rb\" ) as fp:\n",
    "    svcrbf, Xtr1, ytr1 = pickle.load(fp)"
   ]
  },
  {
   "cell_type": "markdown",
   "metadata": {},
   "source": [
    "Make the predictions and save the results and measure the accuracy"
   ]
  },
  {
   "cell_type": "code",
   "execution_count": 28,
   "metadata": {},
   "outputs": [],
   "source": [
    "# skip if load from saved result\n",
    "yhat_ts = svcrbf.predict(Xts1)\n",
    "\n",
    "with open(\"mnist_svcrbf_test.p\", \"wb\") as fp:\n",
    "    pickle.dump([yhat_ts,yts1,Xts1], fp)"
   ]
  },
  {
   "cell_type": "code",
   "execution_count": 29,
   "metadata": {},
   "outputs": [],
   "source": [
    "# skip if you run the previouse cell\n",
    "with open(\"mnist_svcrbf_test.p\", \"rb\") as fp:\n",
    "    yhat_ts,yts1,Xts1 = pickle.load(fp)"
   ]
  },
  {
   "cell_type": "code",
   "execution_count": 30,
   "metadata": {},
   "outputs": [
    {
     "name": "stdout",
     "output_type": "stream",
     "text": [
      "Accuaracy = 0.960200\n"
     ]
    }
   ],
   "source": [
    "acc = np.mean(yhat_ts == yts1)\n",
    "print('Accuaracy = {0:f}'.format(acc))"
   ]
  },
  {
   "cell_type": "markdown",
   "metadata": {},
   "source": [
    "We see that the RBF kernel provides more accurate results. \n",
    "Now let us plot some errors"
   ]
  },
  {
   "cell_type": "code",
   "execution_count": 31,
   "metadata": {},
   "outputs": [
    {
     "data": {
      "image/png": "[encoded data removed]",
      "text/plain": [
       "<Figure size 1000x400 with 4 Axes>"
      ]
     },
     "metadata": {},
     "output_type": "display_data"
    }
   ],
   "source": [
    "Ierr = np.where((yhat_ts != yts1))[0]\n",
    "nplt = 4\n",
    "fig, ax = plt.subplots(1,nplt,figsize=(10, 4))\n",
    "for i in range(nplt):             \n",
    "    ind = Ierr[i]    \n",
    "    plt_digit(ax[i], Xts1[ind,:])        \n",
    "    title = 'true={0:d} est={1:d}'.format(yts1[ind].astype(int), yhat_ts[ind].astype(int))\n",
    "    ax[i].set_title(title)"
   ]
  },
  {
   "cell_type": "markdown",
   "metadata": {},
   "source": [
    "We see that again a human would not have made (most of) these errors, but the digits in error are much less clear."
   ]
  },
  {
   "cell_type": "markdown",
   "metadata": {},
   "source": [
    "## Looking at the Support Vectors\n",
    "\n",
    "Let's take a look at the support vectors.  We see there about 5000 support vectors.  So, about half the training samples were used as SVs, more than that for the linear kernel.  This is partly why the prediction was so slow."
   ]
  },
  {
   "cell_type": "code",
   "execution_count": 32,
   "metadata": {},
   "outputs": [
    {
     "data": {
      "text/plain": [
       "(3087, 784)"
      ]
     },
     "execution_count": 32,
     "metadata": {},
     "output_type": "execute_result"
    }
   ],
   "source": [
    "S = svcrbf.support_vectors_\n",
    "S.shape"
   ]
  },
  {
   "cell_type": "markdown",
   "metadata": {},
   "source": [
    "We can plot some of the vectors."
   ]
  },
  {
   "cell_type": "code",
   "execution_count": 33,
   "metadata": {},
   "outputs": [
    {
     "data": {
      "image/png": "[encoded data removed]",
      "text/plain": [
       "<Figure size 1000x400 with 4 Axes>"
      ]
     },
     "metadata": {},
     "output_type": "display_data"
    }
   ],
   "source": [
    "nplt = 4\n",
    "nsv = S.shape[0]\n",
    "Iperms = np.random.permutation(nsv)\n",
    "fig, ax = plt.subplots(1,nplt,figsize=(10, 4))\n",
    "for i in range(nplt):        \n",
    "    ind = Iperms[i]\n",
    "    plt_digit(ax[i], S[ind,:])        "
   ]
  },
  {
   "cell_type": "markdown",
   "metadata": {},
   "source": [
    "In this demo, we specified the parameters for the SVC. In general, you need to find the optimal parameters through cross validation."
   ]
  }
 ],
 "metadata": {
  "anaconda-cloud": {},
  "kernelspec": {
   "display_name": "Python 3 (ipykernel)",
   "language": "python",
   "name": "python3"
  },
  "language_info": {
   "codemirror_mode": {
    "name": "ipython",
    "version": 3
   },
   "file_extension": ".py",
   "mimetype": "text/x-python",
   "name": "python",
   "nbconvert_exporter": "python",
   "pygments_lexer": "ipython3",
   "version": "3.10.6"
  }
 },
 "nbformat": 4,
 "nbformat_minor": 4
}
