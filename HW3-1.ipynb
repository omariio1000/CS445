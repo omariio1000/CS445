{
 "cells": [
  {
   "cell_type": "markdown",
   "id": "b039b5c8-3876-4dc0-adec-f59e6eaf7ea0",
   "metadata": {},
   "source": [
    "# Homework 3: This HW is based on the code for week 6 (Gradient Descent).\n",
    "\n",
    "## Instructions: \n",
    "\n",
    "Place the answer to your code only in the area specified. Also, make sure to run all your code (e.g., if you are running the code on your local machine, press >> to \"Restart Kernel and Run All Cells\"). This should plot all outputs including your answers to homework questions. After this, go to file (top left) and select \"Print\". Save your file as a PDF and upload the PDF to Canvas. This is one way to generate a PDF. You can also search for other methods to generate a PDF from Jupyter."
   ]
  },
  {
   "cell_type": "markdown",
   "id": "d99909b1-0333-4d4a-8b60-bbe7b8e08472",
   "metadata": {},
   "source": [
    "# Question:\n",
    "\n",
    "Try to a build a simple optimizer to minimize:\n",
    "\n",
    "    f(w) = a[0] + a[1]*w + a[2]*w^2 + ... + a[d]*w^d\n",
    "    \n",
    "for the coefficients `a = [0,0.5,-2,0,1]`.\n",
    "\n",
    "* Plot the function f(w) (1 point)\n",
    "* Can you see where the minima is? (1 point)\n",
    "* Write a function that outputs f(w) and its gradient (2 points).\n",
    "* Run the optimizer on the function to see if it finds the minima (2 points).\n",
    "* Print the function value and number of iterations (2 points).\n",
    "* Instead of writing the function for a specific coefficient vector `a`, create a class that works for an arbitrary vector `a` (2 points).\n",
    "\n",
    "You may wish to use the `poly.polyval(w,a)` method to evaluate the polynomial."
   ]
  },
  {
   "cell_type": "code",
   "execution_count": 1,
   "id": "c756c3ab-70d3-4e66-99fd-51ad82c5c781",
   "metadata": {},
   "outputs": [],
   "source": [
    "import numpy.polynomial.polynomial as poly\n"
   ]
  }
 ],
 "metadata": {
  "kernelspec": {
   "display_name": "Python 3 (ipykernel)",
   "language": "python",
   "name": "python3"
  },
  "language_info": {
   "codemirror_mode": {
    "name": "ipython",
    "version": 3
   },
   "file_extension": ".py",
   "mimetype": "text/x-python",
   "name": "python",
   "nbconvert_exporter": "python",
   "pygments_lexer": "ipython3",
   "version": "3.10.6"
  }
 },
 "nbformat": 4,
 "nbformat_minor": 5
}
