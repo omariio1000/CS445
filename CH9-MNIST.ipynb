{
 "cells": [
  {
   "cell_type": "markdown",
   "metadata": {},
   "source": [
    "# MNIST Classification via a Neural Network\n",
    "\n",
    "In the the MNIST SVM example, we introduced the classic MNIST digit classification problem and trained a simple SVM classifier for the model.  In this demo, we will try a simple neural network.  The network we will create will not perform quite as well -- we will obtain an accuracy of only around 97%, while the SVM classifier obtains an accuracy of over 98%.  However, once we understand these simple neural networks, we will be able to build more sophisticated networks that can obtain much better classification rate.  Also, in doing this demo, you will learn several important features of the `keras` package in addition to the concepts shown in the synthetic example.\n",
    "\n",
    "* How to construct multi-class classifiers using categorical cross entropy.\n",
    "* How to optimize using mini-batches.\n",
    "* How to save and load the model after training.  "
   ]
  },
  {
   "cell_type": "markdown",
   "metadata": {},
   "source": [
    "## Loading the Keras package and the MNIST data\n",
    "\n",
    "We first load the `Tensorflow` package."
   ]
  },
  {
   "cell_type": "code",
   "execution_count": 1,
   "metadata": {},
   "outputs": [
    {
     "name": "stderr",
     "output_type": "stream",
     "text": [
      "2023-02-28 19:16:55.202841: I tensorflow/core/platform/cpu_feature_guard.cc:193] This TensorFlow binary is optimized with oneAPI Deep Neural Network Library (oneDNN) to use the following CPU instructions in performance-critical operations:  SSE4.1 SSE4.2 AVX AVX2 FMA\n",
      "To enable them in other operations, rebuild TensorFlow with the appropriate compiler flags.\n"
     ]
    }
   ],
   "source": [
    "import tensorflow as tf"
   ]
  },
  {
   "cell_type": "markdown",
   "metadata": {},
   "source": [
    "We also load some other common packages."
   ]
  },
  {
   "cell_type": "code",
   "execution_count": 2,
   "metadata": {},
   "outputs": [],
   "source": [
    "import numpy as np\n",
    "import matplotlib.pyplot as plt"
   ]
  },
  {
   "cell_type": "markdown",
   "metadata": {},
   "source": [
    "Next, we get the MNIST data.  We reshape and rescale the input `X` from values from -1 to 1 as this works better for the neural network."
   ]
  },
  {
   "cell_type": "code",
   "execution_count": 3,
   "metadata": {},
   "outputs": [],
   "source": [
    "(Xtr,ytr),(Xts,yts) = tf.keras.datasets.mnist.load_data()\n",
    "\n",
    "Xtr = 2*(Xtr/255 - 0.5)\n",
    "ntr, nrow, ncol = Xtr.shape\n",
    "Xtr = Xtr.reshape((ntr,nrow*ncol))\n",
    "\n",
    "Xts = 2*(Xts/255 - 0.5)\n",
    "nts, nrow, ncol = Xts.shape\n",
    "Xts = Xts.reshape((nts,nrow*ncol))"
   ]
  },
  {
   "cell_type": "markdown",
   "metadata": {},
   "source": [
    "We will also use the `plt_digit` function to display digits."
   ]
  },
  {
   "cell_type": "code",
   "execution_count": 4,
   "metadata": {},
   "outputs": [
    {
     "data": {
      "image/png": "[encoded data removed]",
      "text/plain": [
       "<Figure size 500x1000 with 4 Axes>"
      ]
     },
     "metadata": {},
     "output_type": "display_data"
    }
   ],
   "source": [
    "def plt_digit(ax, x):\n",
    "    nrow = 28\n",
    "    ncol = 28\n",
    "    xsq = x.reshape((nrow,ncol))\n",
    "    ax.imshow(xsq,  cmap='Greys_r')\n",
    "    ax.set_xticks([])\n",
    "    ax.set_yticks([])\n",
    "    \n",
    "# Select random digits\n",
    "nplt = 4\n",
    "nsamp = Xtr.shape[0]\n",
    "Iperm = np.random.permutation(nsamp)\n",
    "\n",
    "# Plot the images using the subplot command\n",
    "fig, ax = plt.subplots(1,nplt, figsize=(5,10))\n",
    "for i in range(nplt):\n",
    "    ind = Iperm[i]    \n",
    "    plt_digit(ax[i], Xtr[ind,:])"
   ]
  },
  {
   "cell_type": "markdown",
   "metadata": {},
   "source": [
    "## Creating a Simple Neural Network."
   ]
  },
  {
   "cell_type": "markdown",
   "metadata": {},
   "source": [
    "To create the neural network, we first import the appropriate sub-packages."
   ]
  },
  {
   "cell_type": "code",
   "execution_count": 5,
   "metadata": {},
   "outputs": [],
   "source": [
    "from tensorflow.keras.models import Model, Sequential\n",
    "from tensorflow.keras.layers import Dense, Activation"
   ]
  },
  {
   "cell_type": "markdown",
   "metadata": {},
   "source": [
    "Next, we clear the session.  This step is not necessary, but it is good practice as it clears any model layers that you have built before.  "
   ]
  },
  {
   "cell_type": "code",
   "execution_count": 6,
   "metadata": {},
   "outputs": [],
   "source": [
    "import tensorflow.keras.backend as K\n",
    "K.clear_session()"
   ]
  },
  {
   "cell_type": "markdown",
   "metadata": {},
   "source": [
    "Now we create a very simple network.  The features are:\n",
    "*  We have one hidden layer with `nh=100` units.  \n",
    "*  One output layer with `nout=10` units, one for each of the 10 possible classes\n",
    "*  The output activation is `softmax`, which is used for multi-class targets"
   ]
  },
  {
   "cell_type": "code",
   "execution_count": 7,
   "metadata": {},
   "outputs": [
    {
     "name": "stderr",
     "output_type": "stream",
     "text": [
      "2023-02-28 19:17:04.933916: I tensorflow/core/platform/cpu_feature_guard.cc:193] This TensorFlow binary is optimized with oneAPI Deep Neural Network Library (oneDNN) to use the following CPU instructions in performance-critical operations:  SSE4.1 SSE4.2 AVX AVX2 FMA\n",
      "To enable them in other operations, rebuild TensorFlow with the appropriate compiler flags.\n"
     ]
    }
   ],
   "source": [
    "nin = Xtr.shape[1]  # dimension of input data\n",
    "nh = 100     # number of hidden units\n",
    "nout = int(np.max(ytr)+1)    # number of outputs = 10 since there are 10 classes\n",
    "model = Sequential()\n",
    "model.add(Dense(units=nh, input_shape=(nin,), activation='sigmoid', name='hidden'))\n",
    "model.add(Dense(units=nout, activation='softmax', name='output'))"
   ]
  },
  {
   "cell_type": "markdown",
   "metadata": {},
   "source": [
    "We print the model summary. "
   ]
  },
  {
   "cell_type": "code",
   "execution_count": 8,
   "metadata": {},
   "outputs": [
    {
     "name": "stdout",
     "output_type": "stream",
     "text": [
      "Model: \"sequential\"\n",
      "_________________________________________________________________\n",
      " Layer (type)                Output Shape              Param #   \n",
      "=================================================================\n",
      " hidden (Dense)              (None, 100)               78500     \n",
      "                                                                 \n",
      " output (Dense)              (None, 10)                1010      \n",
      "                                                                 \n",
      "=================================================================\n",
      "Total params: 79,510\n",
      "Trainable params: 79,510\n",
      "Non-trainable params: 0\n",
      "_________________________________________________________________\n"
     ]
    }
   ],
   "source": [
    "model.summary()"
   ]
  },
  {
   "cell_type": "markdown",
   "metadata": {},
   "source": [
    "## Training the Network\n",
    "\n",
    "As before, to train the network, we have to select an optimizer and a loss function.  Since this is a multi-class classification problem, we select the `sparse_categorial_crossentropy` loss.  We use the `adam` optimizer as before.  You may want to play with the learning rate `lr`.   We also set the `metrics` that we wish to track during the optimization.  In this case, we select `accuracy` on the training set."
   ]
  },
  {
   "cell_type": "code",
   "execution_count": 9,
   "metadata": {},
   "outputs": [
    {
     "name": "stderr",
     "output_type": "stream",
     "text": [
      "/Users/earyafar/opt/miniconda3/envs/ML545/lib/python3.10/site-packages/keras/optimizers/optimizer_v2/adam.py:114: UserWarning: The `lr` argument is deprecated, use `learning_rate` instead.\n",
      "  super().__init__(name, **kwargs)\n"
     ]
    }
   ],
   "source": [
    "from tensorflow.keras import optimizers\n",
    "\n",
    "opt = optimizers.Adam(lr=0.001) \n",
    "model.compile(optimizer=opt,\n",
    "              loss='sparse_categorical_crossentropy',\n",
    "              metrics=['accuracy'])"
   ]
  },
  {
   "cell_type": "markdown",
   "metadata": {},
   "source": [
    "Keras provides a simple method `fit` to run the optimization.  You simply specify the number of epochs and the batch size, both discussed in class.  In addition, we specify the `validation_data` so that it can print the accuracy on the test data set as it performs the optimization."
   ]
  },
  {
   "cell_type": "code",
   "execution_count": 10,
   "metadata": {},
   "outputs": [
    {
     "name": "stdout",
     "output_type": "stream",
     "text": [
      "Epoch 1/15\n",
      "600/600 [==============================] - 2s 3ms/step - loss: 0.5054 - accuracy: 0.8717 - val_loss: 0.2974 - val_accuracy: 0.9172\n",
      "Epoch 2/15\n",
      "600/600 [==============================] - 2s 3ms/step - loss: 0.2582 - accuracy: 0.9263 - val_loss: 0.2253 - val_accuracy: 0.9348\n",
      "Epoch 3/15\n",
      "600/600 [==============================] - 1s 2ms/step - loss: 0.2030 - accuracy: 0.9420 - val_loss: 0.1860 - val_accuracy: 0.9461\n",
      "Epoch 4/15\n",
      "600/600 [==============================] - 1s 2ms/step - loss: 0.1671 - accuracy: 0.9526 - val_loss: 0.1697 - val_accuracy: 0.9530\n",
      "Epoch 5/15\n",
      "600/600 [==============================] - 2s 3ms/step - loss: 0.1431 - accuracy: 0.9591 - val_loss: 0.1424 - val_accuracy: 0.9596\n",
      "Epoch 6/15\n",
      "600/600 [==============================] - 2s 3ms/step - loss: 0.1233 - accuracy: 0.9650 - val_loss: 0.1298 - val_accuracy: 0.9635\n",
      "Epoch 7/15\n",
      "600/600 [==============================] - 2s 3ms/step - loss: 0.1097 - accuracy: 0.9687 - val_loss: 0.1188 - val_accuracy: 0.9658\n",
      "Epoch 8/15\n",
      "600/600 [==============================] - 2s 3ms/step - loss: 0.0974 - accuracy: 0.9724 - val_loss: 0.1257 - val_accuracy: 0.9640\n",
      "Epoch 9/15\n",
      "600/600 [==============================] - 2s 3ms/step - loss: 0.0873 - accuracy: 0.9755 - val_loss: 0.1087 - val_accuracy: 0.9667\n",
      "Epoch 10/15\n",
      "600/600 [==============================] - 1s 2ms/step - loss: 0.0781 - accuracy: 0.9785 - val_loss: 0.1068 - val_accuracy: 0.9682\n",
      "Epoch 11/15\n",
      "600/600 [==============================] - 1s 2ms/step - loss: 0.0709 - accuracy: 0.9807 - val_loss: 0.0978 - val_accuracy: 0.9713\n",
      "Epoch 12/15\n",
      "600/600 [==============================] - 1s 2ms/step - loss: 0.0650 - accuracy: 0.9823 - val_loss: 0.0963 - val_accuracy: 0.9711\n",
      "Epoch 13/15\n",
      "600/600 [==============================] - 1s 2ms/step - loss: 0.0595 - accuracy: 0.9842 - val_loss: 0.0970 - val_accuracy: 0.9708\n",
      "Epoch 14/15\n",
      "600/600 [==============================] - 1s 2ms/step - loss: 0.0555 - accuracy: 0.9847 - val_loss: 0.0934 - val_accuracy: 0.9712\n",
      "Epoch 15/15\n",
      "600/600 [==============================] - 1s 2ms/step - loss: 0.0513 - accuracy: 0.9856 - val_loss: 0.0927 - val_accuracy: 0.9720\n"
     ]
    }
   ],
   "source": [
    "hist = model.fit(Xtr, ytr, epochs=15, batch_size=100, validation_data=(Xts,yts))"
   ]
  },
  {
   "cell_type": "markdown",
   "metadata": {},
   "source": [
    "After running the 10 epochs, you should obtain a test accuracy of around 96.5%.  If we run it for another a few epochs, we can get slightly higher results.  We can just run the `model.fit` command again, and it will start where it left off. You should get a little more than 97% accuracy. "
   ]
  },
  {
   "cell_type": "markdown",
   "metadata": {},
   "source": [
    "Plot the training accuracy and validation accuracy as a function of epoches.\n",
    "We see that the training accuracy keeps growing to 1, while the validation accuracy saturates to a value around 0.97"
   ]
  },
  {
   "cell_type": "code",
   "execution_count": 11,
   "metadata": {},
   "outputs": [
    {
     "data": {
      "text/plain": [
       "<matplotlib.legend.Legend at 0x7fb6b28cc520>"
      ]
     },
     "execution_count": 11,
     "metadata": {},
     "output_type": "execute_result"
    },
    {
     "data": {
      "image/png": "[encoded data removed]",
      "text/plain": [
       "<Figure size 640x480 with 1 Axes>"
      ]
     },
     "metadata": {},
     "output_type": "display_data"
    }
   ],
   "source": [
    "tr_accuracy = hist.history['accuracy']\n",
    "val_accuracy = hist.history['val_accuracy']\n",
    "\n",
    "plt.plot(tr_accuracy)\n",
    "plt.plot(val_accuracy)\n",
    "plt.grid()\n",
    "plt.xlabel('epochs')\n",
    "plt.ylabel('accuarcy')\n",
    "plt.legend(['training accuracy', 'validation accuracy'])"
   ]
  },
  {
   "cell_type": "code",
   "execution_count": 12,
   "metadata": {},
   "outputs": [
    {
     "name": "stdout",
     "output_type": "stream",
     "text": [
      "313/313 [==============================] - 1s 2ms/step - loss: 0.0927 - accuracy: 0.9720\n"
     ]
    }
   ],
   "source": [
    "score, acc = model.evaluate(Xts, yts, verbose=1)"
   ]
  },
  {
   "cell_type": "markdown",
   "metadata": {},
   "source": [
    "## Saving and Loading the model\n",
    "\n",
    "Since the training takes a long time, it is useful to save the results.  See the [keras page](https://keras.io/getting-started/faq/#how-can-i-save-a-keras-model) for many more useful saving and loading features."
   ]
  },
  {
   "cell_type": "code",
   "execution_count": 13,
   "metadata": {},
   "outputs": [],
   "source": [
    "model.save(\"mnist_mod.h5\")"
   ]
  },
  {
   "cell_type": "markdown",
   "metadata": {},
   "source": [
    "We can now reload the model with the `load_model` command."
   ]
  },
  {
   "cell_type": "code",
   "execution_count": 14,
   "metadata": {},
   "outputs": [
    {
     "name": "stdout",
     "output_type": "stream",
     "text": [
      "Model: \"sequential\"\n",
      "_________________________________________________________________\n",
      " Layer (type)                Output Shape              Param #   \n",
      "=================================================================\n",
      " hidden (Dense)              (None, 100)               78500     \n",
      "                                                                 \n",
      " output (Dense)              (None, 10)                1010      \n",
      "                                                                 \n",
      "=================================================================\n",
      "Total params: 79,510\n",
      "Trainable params: 79,510\n",
      "Non-trainable params: 0\n",
      "_________________________________________________________________\n"
     ]
    }
   ],
   "source": [
    "from tensorflow.keras.models import load_model\n",
    "\n",
    "model1 = load_model(\"mnist_mod.h5\")\n",
    "model1.summary()"
   ]
  },
  {
   "cell_type": "markdown",
   "metadata": {},
   "source": [
    "We can test the performance on the test data set.  We can do this in two steps:\n",
    "\n",
    "* We first compute the output logits, `z`, on the test data, `Xts`.  This will produce a matrix with 10 columns with one logits for each class.  \n",
    "* Then we compute the predicted class labels `yhat` by finding the index of the column with the maximum value."
   ]
  },
  {
   "cell_type": "code",
   "execution_count": 15,
   "metadata": {},
   "outputs": [
    {
     "name": "stdout",
     "output_type": "stream",
     "text": [
      "313/313 [==============================] - 1s 1ms/step\n"
     ]
    }
   ],
   "source": [
    "z = model1.predict(Xts)\n",
    "yhat = np.argmax(z,axis=1)"
   ]
  },
  {
   "cell_type": "markdown",
   "metadata": {},
   "source": [
    "To see what happened, the code below prints the first 5 rows of the logits and the corresponding class estimate."
   ]
  },
  {
   "cell_type": "code",
   "execution_count": 16,
   "metadata": {},
   "outputs": [
    {
     "name": "stdout",
     "output_type": "stream",
     "text": [
      "z[0,:]= [0. 0. 0. 0. 0. 0. 0. 1. 0. 0.] , yhat[0]=  7\n",
      "z[1,:]= [0.    0.    0.999 0.    0.    0.    0.    0.    0.    0.   ] , yhat[1]=  2\n",
      "z[2,:]= [0.    0.999 0.    0.    0.    0.    0.    0.    0.    0.   ] , yhat[2]=  1\n",
      "z[3,:]= [1. 0. 0. 0. 0. 0. 0. 0. 0. 0.] , yhat[3]=  0\n",
      "z[4,:]= [0.    0.    0.    0.    0.991 0.    0.    0.    0.    0.009] , yhat[4]=  4\n"
     ]
    }
   ],
   "source": [
    "mat = np.column_stack((z,yhat))\n",
    "with np.printoptions(precision=3, suppress=True):\n",
    "    for i in range(5):\n",
    "        print('z[%d,:]='%i, z[i,:], ', yhat[%d]= '%i, yhat[i])"
   ]
  },
  {
   "cell_type": "code",
   "execution_count": 17,
   "metadata": {},
   "outputs": [
    {
     "name": "stdout",
     "output_type": "stream",
     "text": [
      "accuracy = 0.972000\n"
     ]
    }
   ],
   "source": [
    "acc = np.mean(yhat == yts)\n",
    "print(\"accuracy = %f\" % acc)"
   ]
  }
 ],
 "metadata": {
  "anaconda-cloud": {},
  "kernelspec": {
   "display_name": "Python 3 (ipykernel)",
   "language": "python",
   "name": "python3"
  },
  "language_info": {
   "codemirror_mode": {
    "name": "ipython",
    "version": 3
   },
   "file_extension": ".py",
   "mimetype": "text/x-python",
   "name": "python",
   "nbconvert_exporter": "python",
   "pygments_lexer": "ipython3",
   "version": "3.10.6"
  }
 },
 "nbformat": 4,
 "nbformat_minor": 4
}
